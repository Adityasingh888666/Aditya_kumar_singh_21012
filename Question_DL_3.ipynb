{
  "nbformat": 4,
  "nbformat_minor": 0,
  "metadata": {
    "colab": {
      "provenance": []
    },
    "kernelspec": {
      "name": "python3",
      "display_name": "Python 3"
    },
    "language_info": {
      "name": "python"
    }
  },
  "cells": [
    {
      "cell_type": "code",
      "execution_count": 8,
      "metadata": {
        "colab": {
          "base_uri": "https://localhost:8080/"
        },
        "id": "0nzsY-Ib6s04",
        "outputId": "1f691551-8225-4d6f-85fb-5b1d60de5bcb"
      },
      "outputs": [
        {
          "output_type": "stream",
          "name": "stdout",
          "text": [
            "Downloading http://yann.lecun.com/exdb/mnist/train-images-idx3-ubyte.gz\n",
            "Downloading http://yann.lecun.com/exdb/mnist/train-images-idx3-ubyte.gz to ./data/MNIST/raw/train-images-idx3-ubyte.gz\n"
          ]
        },
        {
          "output_type": "stream",
          "name": "stderr",
          "text": [
            "100%|██████████| 9912422/9912422 [00:00<00:00, 86501810.62it/s]\n"
          ]
        },
        {
          "output_type": "stream",
          "name": "stdout",
          "text": [
            "Extracting ./data/MNIST/raw/train-images-idx3-ubyte.gz to ./data/MNIST/raw\n",
            "\n",
            "Downloading http://yann.lecun.com/exdb/mnist/train-labels-idx1-ubyte.gz\n",
            "Downloading http://yann.lecun.com/exdb/mnist/train-labels-idx1-ubyte.gz to ./data/MNIST/raw/train-labels-idx1-ubyte.gz\n"
          ]
        },
        {
          "output_type": "stream",
          "name": "stderr",
          "text": [
            "100%|██████████| 28881/28881 [00:00<00:00, 9153369.64it/s]\n"
          ]
        },
        {
          "output_type": "stream",
          "name": "stdout",
          "text": [
            "Extracting ./data/MNIST/raw/train-labels-idx1-ubyte.gz to ./data/MNIST/raw\n",
            "\n",
            "Downloading http://yann.lecun.com/exdb/mnist/t10k-images-idx3-ubyte.gz\n",
            "Downloading http://yann.lecun.com/exdb/mnist/t10k-images-idx3-ubyte.gz to ./data/MNIST/raw/t10k-images-idx3-ubyte.gz\n"
          ]
        },
        {
          "output_type": "stream",
          "name": "stderr",
          "text": [
            "100%|██████████| 1648877/1648877 [00:00<00:00, 27260868.04it/s]\n"
          ]
        },
        {
          "output_type": "stream",
          "name": "stdout",
          "text": [
            "Extracting ./data/MNIST/raw/t10k-images-idx3-ubyte.gz to ./data/MNIST/raw\n",
            "\n",
            "Downloading http://yann.lecun.com/exdb/mnist/t10k-labels-idx1-ubyte.gz\n",
            "Downloading http://yann.lecun.com/exdb/mnist/t10k-labels-idx1-ubyte.gz to ./data/MNIST/raw/t10k-labels-idx1-ubyte.gz\n"
          ]
        },
        {
          "output_type": "stream",
          "name": "stderr",
          "text": [
            "100%|██████████| 4542/4542 [00:00<00:00, 11559786.87it/s]\n"
          ]
        },
        {
          "output_type": "stream",
          "name": "stdout",
          "text": [
            "Extracting ./data/MNIST/raw/t10k-labels-idx1-ubyte.gz to ./data/MNIST/raw\n",
            "\n",
            "Epoch 1, Batch 100, Loss: 2.203\n",
            "Epoch 1, Batch 200, Loss: 1.836\n",
            "Epoch 1, Batch 300, Loss: 1.298\n",
            "Epoch 1, Batch 400, Loss: 0.919\n",
            "Epoch 1, Batch 500, Loss: 0.715\n",
            "Epoch 1, Batch 600, Loss: 0.611\n",
            "Epoch 1, Batch 700, Loss: 0.560\n",
            "Epoch 1, Batch 800, Loss: 0.508\n",
            "Epoch 1, Batch 900, Loss: 0.464\n",
            "Epoch 2, Batch 100, Loss: 0.432\n",
            "Epoch 2, Batch 200, Loss: 0.408\n",
            "Epoch 2, Batch 300, Loss: 0.403\n",
            "Epoch 2, Batch 400, Loss: 0.380\n",
            "Epoch 2, Batch 500, Loss: 0.374\n",
            "Epoch 2, Batch 600, Loss: 0.371\n",
            "Epoch 2, Batch 700, Loss: 0.374\n",
            "Epoch 2, Batch 800, Loss: 0.359\n",
            "Epoch 2, Batch 900, Loss: 0.386\n",
            "Epoch 3, Batch 100, Loss: 0.352\n",
            "Epoch 3, Batch 200, Loss: 0.329\n",
            "Epoch 3, Batch 300, Loss: 0.320\n",
            "Epoch 3, Batch 400, Loss: 0.341\n",
            "Epoch 3, Batch 500, Loss: 0.332\n",
            "Epoch 3, Batch 600, Loss: 0.320\n",
            "Epoch 3, Batch 700, Loss: 0.332\n",
            "Epoch 3, Batch 800, Loss: 0.313\n",
            "Epoch 3, Batch 900, Loss: 0.310\n",
            "Epoch 4, Batch 100, Loss: 0.310\n",
            "Epoch 4, Batch 200, Loss: 0.298\n",
            "Epoch 4, Batch 300, Loss: 0.297\n",
            "Epoch 4, Batch 400, Loss: 0.284\n",
            "Epoch 4, Batch 500, Loss: 0.319\n",
            "Epoch 4, Batch 600, Loss: 0.289\n",
            "Epoch 4, Batch 700, Loss: 0.274\n",
            "Epoch 4, Batch 800, Loss: 0.310\n",
            "Epoch 4, Batch 900, Loss: 0.290\n",
            "Epoch 5, Batch 100, Loss: 0.267\n",
            "Epoch 5, Batch 200, Loss: 0.275\n",
            "Epoch 5, Batch 300, Loss: 0.268\n",
            "Epoch 5, Batch 400, Loss: 0.276\n",
            "Epoch 5, Batch 500, Loss: 0.282\n",
            "Epoch 5, Batch 600, Loss: 0.273\n",
            "Epoch 5, Batch 700, Loss: 0.278\n",
            "Epoch 5, Batch 800, Loss: 0.265\n",
            "Epoch 5, Batch 900, Loss: 0.253\n",
            "Finished Training\n",
            "Accuracy on the test set: 92.87%\n"
          ]
        }
      ],
      "source": [
        "import torch\n",
        "import torch.nn as nn\n",
        "import torch.optim as optim\n",
        "import torchvision.transforms as transforms\n",
        "from torch.utils.data import DataLoader\n",
        "from torchvision.datasets import MNIST\n",
        "\n",
        "# Preprocessing: Define transformations for input images\n",
        "transform = transforms.Compose([\n",
        "    transforms.ToTensor(),  # Convert PIL image to tensor\n",
        "    transforms.Normalize((0.5,), (0.5,))  # Normalize images with mean and standard deviation\n",
        "])\n",
        "\n",
        "# Load the MNIST dataset\n",
        "trainset = MNIST(root='./data', train=True, download=True, transform=transform)\n",
        "testset = MNIST(root='./data', train=False, download=True, transform=transform)\n",
        "\n",
        "# Define the data loaders\n",
        "trainloader = DataLoader(trainset, batch_size=64, shuffle=True)\n",
        "testloader = DataLoader(testset, batch_size=64, shuffle=False)\n",
        "\n",
        "# Define the Feedforward Neural Network (FNN) architecture\n",
        "class FNN(nn.Module):\n",
        "    def __init__(self):\n",
        "        super(FNN, self).__init__()\n",
        "        self.fc1 = nn.Linear(28*28, 128)  # Input layer: 28x28 pixels flattened to 784 neurons\n",
        "        self.fc2 = nn.Linear(128, 64)     # Hidden layer 1\n",
        "        self.fc3 = nn.Linear(64, 10)      # Output layer: 10 neurons for 10 classes (0-9 digits)\n",
        "\n",
        "    def forward(self, x):\n",
        "        x = x.view(-1, 28*28)  # Flatten the input images\n",
        "        x = torch.relu(self.fc1(x))  # Apply ReLU activation to the first hidden layer\n",
        "        x = torch.relu(self.fc2(x))  # Apply ReLU activation to the second hidden layer\n",
        "        x = self.fc3(x)  # Output layer, no activation function\n",
        "        return x\n",
        "\n",
        "# Instantiate the FNN model\n",
        "model = FNN()\n",
        "\n",
        "# Define loss function and optimizer\n",
        "criterion = nn.CrossEntropyLoss()\n",
        "optimizer = optim.SGD(model.parameters(), lr=0.01)\n",
        "\n",
        "# Training loop\n",
        "for epoch in range(5):  # Adjust the number of epochs as needed\n",
        "    running_loss = 0.0\n",
        "    for i, data in enumerate(trainloader, 0):\n",
        "        inputs, labels = data\n",
        "        optimizer.zero_grad()\n",
        "\n",
        "        outputs = model(inputs)\n",
        "        loss = criterion(outputs, labels)\n",
        "        loss.backward()\n",
        "        optimizer.step()\n",
        "\n",
        "        running_loss += loss.item()\n",
        "\n",
        "        if i % 100 == 99:  # Print every 100 mini-batches\n",
        "            print(f\"Epoch {epoch + 1}, Batch {i + 1}, Loss: {running_loss / 100:.3f}\")\n",
        "            running_loss = 0.0\n",
        "\n",
        "print(\"Finished Training\")\n",
        "\n",
        "# Evaluation\n",
        "correct = 0\n",
        "total = 0\n",
        "with torch.no_grad():\n",
        "    for data in testloader:\n",
        "        images, labels = data\n",
        "        outputs = model(images)\n",
        "        _, predicted = torch.max(outputs.data, 1)\n",
        "        total += labels.size(0)\n",
        "        correct += (predicted == labels).sum().item()\n",
        "\n",
        "print(f\"Accuracy on the test set: {100 * correct / total:.2f}%\")"
      ]
    }
  ]
}